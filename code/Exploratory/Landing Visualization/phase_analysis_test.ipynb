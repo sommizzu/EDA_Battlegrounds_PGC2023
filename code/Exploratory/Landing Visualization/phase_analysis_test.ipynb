{
 "cells": [
  {
   "cell_type": "code",
   "execution_count": 1,
   "metadata": {},
   "outputs": [],
   "source": [
    "#library\n",
    "import os\n",
    "import re\n",
    "import glob\n",
    "import math\n",
    "import swifter\n",
    "import pandas as pd\n",
    "from datetime import datetime\n",
    "\n",
    "import seaborn as sns\n",
    "import matplotlib.pyplot as plt"
   ]
  },
  {
   "cell_type": "code",
   "execution_count": 2,
   "metadata": {},
   "outputs": [],
   "source": [
    "df1 = pd.read_csv(r'C:\\Users\\PC\\Desktop\\AI_Lab\\pubg\\preprocessed\\all_character_location.csv')"
   ]
  },
  {
   "cell_type": "code",
   "execution_count": 3,
   "metadata": {},
   "outputs": [],
   "source": [
    "import pandas as pd\n",
    "\n",
    "# 페이즈별로 데이터프레임 나누기\n",
    "phase_1_df = df1[df1['phase'] == 1.0]\n",
    "phase_2_df = df1[df1['phase'] == 2.0]\n",
    "phase_3_df = df1[df1['phase'] == 3.0]\n",
    "phase_4_df = df1[df1['phase'] == 4.0]\n",
    "phase_5_df = df1[df1['phase'] == 5.0]\n",
    "phase_6_df = df1[df1['phase'] == 6.0]\n",
    "phase_7_df = df1[df1['phase'] == 7.0]"
   ]
  },
  {
   "cell_type": "code",
   "execution_count": 4,
   "metadata": {},
   "outputs": [
    {
     "name": "stdout",
     "output_type": "stream",
     "text": [
      "Phase 1 DataFrame:\n",
      "                  _D character.name  character.location.x  \\\n",
      "0       11:21:03.132    TL_Jiaoyang          605780.87500   \n",
      "1       11:21:03.133    TL_Jiaoyang          605888.00000   \n",
      "2       11:21:03.651    TL_Jiaoyang          605379.68750   \n",
      "3       11:21:05.326    TL_Jiaoyang          605124.12500   \n",
      "4       11:21:05.448    TL_Jiaoyang          605124.12500   \n",
      "...              ...            ...                   ...   \n",
      "626655  11:30:16.341  T5_RossitedJR          390408.84375   \n",
      "626656  11:30:16.341    FaZe_curexi          448678.09375   \n",
      "626657  11:30:16.428       NH_CC108          483759.75000   \n",
      "626658  11:30:16.607    CES_HaiSaki          507203.78125   \n",
      "626659  11:30:16.694  T5_Pathompong          405827.50000   \n",
      "\n",
      "        character.location.y  character.location.z  character.isInBlueZone  \\\n",
      "0              366935.437500          10457.629883                   False   \n",
      "1              366900.062500          10551.200195                   False   \n",
      "2              367114.625000           9876.229492                   False   \n",
      "3              367265.593750           9903.726562                   False   \n",
      "4              367265.593750           9903.726562                   False   \n",
      "...                      ...                   ...                     ...   \n",
      "626655         246346.390625           7986.729980                   False   \n",
      "626656         195448.921875           9251.652344                   False   \n",
      "626657         354063.875000          11528.972656                   False   \n",
      "626658         300504.593750           9160.181641                   False   \n",
      "626659         226730.640625           7860.569824                   False   \n",
      "\n",
      "        phase  whitecircle_location_x  whitecircle_location_y  \\\n",
      "0         1.0              438487.875           245424.515625   \n",
      "1         1.0              438487.875           245424.515625   \n",
      "2         1.0              438487.875           245424.515625   \n",
      "3         1.0              438487.875           245424.515625   \n",
      "4         1.0              438487.875           245424.515625   \n",
      "...       ...                     ...                     ...   \n",
      "626655    1.0              438487.875           245424.515625   \n",
      "626656    1.0              438487.875           245424.515625   \n",
      "626657    1.0              438487.875           245424.515625   \n",
      "626658    1.0              438487.875           245424.515625   \n",
      "626659    1.0              438487.875           245424.515625   \n",
      "\n",
      "        whitecircle_radius  \n",
      "0              203699.6875  \n",
      "1              203699.6875  \n",
      "2              203699.6875  \n",
      "3              203699.6875  \n",
      "4              203699.6875  \n",
      "...                    ...  \n",
      "626655         203699.6875  \n",
      "626656         203699.6875  \n",
      "626657         203699.6875  \n",
      "626658         203699.6875  \n",
      "626659         203699.6875  \n",
      "\n",
      "[335654 rows x 10 columns]\n"
     ]
    }
   ],
   "source": [
    "# 필요한 만큼 페이즈별로 계속 나누어주면 됩니다.\n",
    "# 결과 출력\n",
    "print(\"Phase 1 DataFrame:\")\n",
    "print(phase_1_df)"
   ]
  },
  {
   "cell_type": "code",
   "execution_count": 5,
   "metadata": {},
   "outputs": [],
   "source": [
    "def euclidean_distance(point1, point2):\n",
    "    # point1과 point2는 각각 (x, y) 형태의 튜플 또는 리스트\n",
    "    x1, y1 = point1\n",
    "    x2, y2 = point2\n",
    "    distance = math.sqrt((x2 - x1)**2 + (y2 - y1)**2)\n",
    "    return distance\n",
    "\n",
    "\n",
    "def distance_character_whitecircle(row):\n",
    "\n",
    "    character_location = (row['character.location.x'], row['character.location.y'])\n",
    "    circle_location = (row['whitecircle_location_x'], row['whitecircle_location_y'])\n",
    "    \n",
    "    distance = euclidean_distance(character_location, circle_location)\n",
    "\n",
    "    return distance\n"
   ]
  },
  {
   "cell_type": "code",
   "execution_count": 6,
   "metadata": {},
   "outputs": [
    {
     "data": {
      "application/vnd.jupyter.widget-view+json": {
       "model_id": "2542c9449e9c4e67bc7eb5ee766b1ba4",
       "version_major": 2,
       "version_minor": 0
      },
      "text/plain": [
       "Pandas Apply:   0%|          | 0/335654 [00:00<?, ?it/s]"
      ]
     },
     "metadata": {},
     "output_type": "display_data"
    },
    {
     "name": "stderr",
     "output_type": "stream",
     "text": [
      "C:\\Users\\PC\\AppData\\Local\\Temp\\ipykernel_14460\\2495551997.py:1: SettingWithCopyWarning: \n",
      "A value is trying to be set on a copy of a slice from a DataFrame.\n",
      "Try using .loc[row_indexer,col_indexer] = value instead\n",
      "\n",
      "See the caveats in the documentation: https://pandas.pydata.org/pandas-docs/stable/user_guide/indexing.html#returning-a-view-versus-a-copy\n",
      "  phase_1_df['distance'] = phase_1_df.swifter.apply(distance_character_whitecircle, axis=1, result_type='expand')\n"
     ]
    },
    {
     "data": {
      "application/vnd.jupyter.widget-view+json": {
       "model_id": "19459c74a13048369915b1600ed2c718",
       "version_major": 2,
       "version_minor": 0
      },
      "text/plain": [
       "Pandas Apply:   0%|          | 0/71421 [00:00<?, ?it/s]"
      ]
     },
     "metadata": {},
     "output_type": "display_data"
    },
    {
     "name": "stderr",
     "output_type": "stream",
     "text": [
      "C:\\Users\\PC\\AppData\\Local\\Temp\\ipykernel_14460\\2495551997.py:2: SettingWithCopyWarning: \n",
      "A value is trying to be set on a copy of a slice from a DataFrame.\n",
      "Try using .loc[row_indexer,col_indexer] = value instead\n",
      "\n",
      "See the caveats in the documentation: https://pandas.pydata.org/pandas-docs/stable/user_guide/indexing.html#returning-a-view-versus-a-copy\n",
      "  phase_2_df['distance'] = phase_2_df.swifter.apply(distance_character_whitecircle, axis=1, result_type='expand')\n"
     ]
    },
    {
     "data": {
      "application/vnd.jupyter.widget-view+json": {
       "model_id": "591599e35de145cba0485f0576fae40c",
       "version_major": 2,
       "version_minor": 0
      },
      "text/plain": [
       "Pandas Apply:   0%|          | 0/62776 [00:00<?, ?it/s]"
      ]
     },
     "metadata": {},
     "output_type": "display_data"
    },
    {
     "name": "stderr",
     "output_type": "stream",
     "text": [
      "C:\\Users\\PC\\AppData\\Local\\Temp\\ipykernel_14460\\2495551997.py:3: SettingWithCopyWarning: \n",
      "A value is trying to be set on a copy of a slice from a DataFrame.\n",
      "Try using .loc[row_indexer,col_indexer] = value instead\n",
      "\n",
      "See the caveats in the documentation: https://pandas.pydata.org/pandas-docs/stable/user_guide/indexing.html#returning-a-view-versus-a-copy\n",
      "  phase_3_df['distance'] = phase_3_df.swifter.apply(distance_character_whitecircle, axis=1, result_type='expand')\n"
     ]
    },
    {
     "data": {
      "application/vnd.jupyter.widget-view+json": {
       "model_id": "550eff7d6b1541d5bfeba9c4bdf951bf",
       "version_major": 2,
       "version_minor": 0
      },
      "text/plain": [
       "Pandas Apply:   0%|          | 0/67944 [00:00<?, ?it/s]"
      ]
     },
     "metadata": {},
     "output_type": "display_data"
    },
    {
     "name": "stderr",
     "output_type": "stream",
     "text": [
      "C:\\Users\\PC\\AppData\\Local\\Temp\\ipykernel_14460\\2495551997.py:4: SettingWithCopyWarning: \n",
      "A value is trying to be set on a copy of a slice from a DataFrame.\n",
      "Try using .loc[row_indexer,col_indexer] = value instead\n",
      "\n",
      "See the caveats in the documentation: https://pandas.pydata.org/pandas-docs/stable/user_guide/indexing.html#returning-a-view-versus-a-copy\n",
      "  phase_4_df['distance'] = phase_4_df.swifter.apply(distance_character_whitecircle, axis=1, result_type='expand')\n"
     ]
    },
    {
     "data": {
      "application/vnd.jupyter.widget-view+json": {
       "model_id": "128588d4036241929b3f1adbf8c79b00",
       "version_major": 2,
       "version_minor": 0
      },
      "text/plain": [
       "Pandas Apply:   0%|          | 0/52934 [00:00<?, ?it/s]"
      ]
     },
     "metadata": {},
     "output_type": "display_data"
    },
    {
     "name": "stderr",
     "output_type": "stream",
     "text": [
      "C:\\Users\\PC\\AppData\\Local\\Temp\\ipykernel_14460\\2495551997.py:5: SettingWithCopyWarning: \n",
      "A value is trying to be set on a copy of a slice from a DataFrame.\n",
      "Try using .loc[row_indexer,col_indexer] = value instead\n",
      "\n",
      "See the caveats in the documentation: https://pandas.pydata.org/pandas-docs/stable/user_guide/indexing.html#returning-a-view-versus-a-copy\n",
      "  phase_5_df['distance'] = phase_5_df.swifter.apply(distance_character_whitecircle, axis=1, result_type='expand')\n"
     ]
    },
    {
     "data": {
      "application/vnd.jupyter.widget-view+json": {
       "model_id": "28b88fe200954700ad40a16dc08736a4",
       "version_major": 2,
       "version_minor": 0
      },
      "text/plain": [
       "Pandas Apply:   0%|          | 0/34523 [00:00<?, ?it/s]"
      ]
     },
     "metadata": {},
     "output_type": "display_data"
    },
    {
     "name": "stderr",
     "output_type": "stream",
     "text": [
      "C:\\Users\\PC\\AppData\\Local\\Temp\\ipykernel_14460\\2495551997.py:6: SettingWithCopyWarning: \n",
      "A value is trying to be set on a copy of a slice from a DataFrame.\n",
      "Try using .loc[row_indexer,col_indexer] = value instead\n",
      "\n",
      "See the caveats in the documentation: https://pandas.pydata.org/pandas-docs/stable/user_guide/indexing.html#returning-a-view-versus-a-copy\n",
      "  phase_6_df['distance'] = phase_6_df.swifter.apply(distance_character_whitecircle, axis=1, result_type='expand')\n"
     ]
    },
    {
     "data": {
      "application/vnd.jupyter.widget-view+json": {
       "model_id": "44acc5cac8fb44948e12ae8a7d23aa27",
       "version_major": 2,
       "version_minor": 0
      },
      "text/plain": [
       "Pandas Apply:   0%|          | 0/17575 [00:00<?, ?it/s]"
      ]
     },
     "metadata": {},
     "output_type": "display_data"
    },
    {
     "name": "stderr",
     "output_type": "stream",
     "text": [
      "C:\\Users\\PC\\AppData\\Local\\Temp\\ipykernel_14460\\2495551997.py:7: SettingWithCopyWarning: \n",
      "A value is trying to be set on a copy of a slice from a DataFrame.\n",
      "Try using .loc[row_indexer,col_indexer] = value instead\n",
      "\n",
      "See the caveats in the documentation: https://pandas.pydata.org/pandas-docs/stable/user_guide/indexing.html#returning-a-view-versus-a-copy\n",
      "  phase_7_df['distance'] = phase_7_df.swifter.apply(distance_character_whitecircle, axis=1, result_type='expand')\n"
     ]
    }
   ],
   "source": [
    "phase_1_df['distance'] = phase_1_df.swifter.apply(distance_character_whitecircle, axis=1, result_type='expand')\n",
    "phase_2_df['distance'] = phase_2_df.swifter.apply(distance_character_whitecircle, axis=1, result_type='expand')\n",
    "phase_3_df['distance'] = phase_3_df.swifter.apply(distance_character_whitecircle, axis=1, result_type='expand')\n",
    "phase_4_df['distance'] = phase_4_df.swifter.apply(distance_character_whitecircle, axis=1, result_type='expand')\n",
    "phase_5_df['distance'] = phase_5_df.swifter.apply(distance_character_whitecircle, axis=1, result_type='expand')\n",
    "phase_6_df['distance'] = phase_6_df.swifter.apply(distance_character_whitecircle, axis=1, result_type='expand')\n",
    "phase_7_df['distance'] = phase_7_df.swifter.apply(distance_character_whitecircle, axis=1, result_type='expand')"
   ]
  },
  {
   "cell_type": "code",
   "execution_count": 7,
   "metadata": {},
   "outputs": [
    {
     "data": {
      "text/html": [
       "<div>\n",
       "<style scoped>\n",
       "    .dataframe tbody tr th:only-of-type {\n",
       "        vertical-align: middle;\n",
       "    }\n",
       "\n",
       "    .dataframe tbody tr th {\n",
       "        vertical-align: top;\n",
       "    }\n",
       "\n",
       "    .dataframe thead th {\n",
       "        text-align: right;\n",
       "    }\n",
       "</style>\n",
       "<table border=\"1\" class=\"dataframe\">\n",
       "  <thead>\n",
       "    <tr style=\"text-align: right;\">\n",
       "      <th></th>\n",
       "      <th>_D</th>\n",
       "      <th>character.name</th>\n",
       "      <th>character.location.x</th>\n",
       "      <th>character.location.y</th>\n",
       "      <th>character.location.z</th>\n",
       "      <th>character.isInBlueZone</th>\n",
       "      <th>phase</th>\n",
       "      <th>whitecircle_location_x</th>\n",
       "      <th>whitecircle_location_y</th>\n",
       "      <th>whitecircle_radius</th>\n",
       "      <th>distance</th>\n",
       "    </tr>\n",
       "  </thead>\n",
       "  <tbody>\n",
       "    <tr>\n",
       "      <th>0</th>\n",
       "      <td>11:21:03.132</td>\n",
       "      <td>TL_Jiaoyang</td>\n",
       "      <td>605780.87500</td>\n",
       "      <td>366935.437500</td>\n",
       "      <td>10457.629883</td>\n",
       "      <td>False</td>\n",
       "      <td>1.0</td>\n",
       "      <td>438487.875</td>\n",
       "      <td>245424.515625</td>\n",
       "      <td>203699.6875</td>\n",
       "      <td>206765.209801</td>\n",
       "    </tr>\n",
       "    <tr>\n",
       "      <th>1</th>\n",
       "      <td>11:21:03.133</td>\n",
       "      <td>TL_Jiaoyang</td>\n",
       "      <td>605888.00000</td>\n",
       "      <td>366900.062500</td>\n",
       "      <td>10551.200195</td>\n",
       "      <td>False</td>\n",
       "      <td>1.0</td>\n",
       "      <td>438487.875</td>\n",
       "      <td>245424.515625</td>\n",
       "      <td>203699.6875</td>\n",
       "      <td>206831.115499</td>\n",
       "    </tr>\n",
       "    <tr>\n",
       "      <th>2</th>\n",
       "      <td>11:21:03.651</td>\n",
       "      <td>TL_Jiaoyang</td>\n",
       "      <td>605379.68750</td>\n",
       "      <td>367114.625000</td>\n",
       "      <td>9876.229492</td>\n",
       "      <td>False</td>\n",
       "      <td>1.0</td>\n",
       "      <td>438487.875</td>\n",
       "      <td>245424.515625</td>\n",
       "      <td>203699.6875</td>\n",
       "      <td>206546.265518</td>\n",
       "    </tr>\n",
       "    <tr>\n",
       "      <th>3</th>\n",
       "      <td>11:21:05.326</td>\n",
       "      <td>TL_Jiaoyang</td>\n",
       "      <td>605124.12500</td>\n",
       "      <td>367265.593750</td>\n",
       "      <td>9903.726562</td>\n",
       "      <td>False</td>\n",
       "      <td>1.0</td>\n",
       "      <td>438487.875</td>\n",
       "      <td>245424.515625</td>\n",
       "      <td>203699.6875</td>\n",
       "      <td>206428.893648</td>\n",
       "    </tr>\n",
       "    <tr>\n",
       "      <th>4</th>\n",
       "      <td>11:21:05.448</td>\n",
       "      <td>TL_Jiaoyang</td>\n",
       "      <td>605124.12500</td>\n",
       "      <td>367265.593750</td>\n",
       "      <td>9903.726562</td>\n",
       "      <td>False</td>\n",
       "      <td>1.0</td>\n",
       "      <td>438487.875</td>\n",
       "      <td>245424.515625</td>\n",
       "      <td>203699.6875</td>\n",
       "      <td>206428.893648</td>\n",
       "    </tr>\n",
       "    <tr>\n",
       "      <th>...</th>\n",
       "      <td>...</td>\n",
       "      <td>...</td>\n",
       "      <td>...</td>\n",
       "      <td>...</td>\n",
       "      <td>...</td>\n",
       "      <td>...</td>\n",
       "      <td>...</td>\n",
       "      <td>...</td>\n",
       "      <td>...</td>\n",
       "      <td>...</td>\n",
       "      <td>...</td>\n",
       "    </tr>\n",
       "    <tr>\n",
       "      <th>626655</th>\n",
       "      <td>11:30:16.341</td>\n",
       "      <td>T5_RossitedJR</td>\n",
       "      <td>390408.84375</td>\n",
       "      <td>246346.390625</td>\n",
       "      <td>7986.729980</td>\n",
       "      <td>False</td>\n",
       "      <td>1.0</td>\n",
       "      <td>438487.875</td>\n",
       "      <td>245424.515625</td>\n",
       "      <td>203699.6875</td>\n",
       "      <td>48087.868527</td>\n",
       "    </tr>\n",
       "    <tr>\n",
       "      <th>626656</th>\n",
       "      <td>11:30:16.341</td>\n",
       "      <td>FaZe_curexi</td>\n",
       "      <td>448678.09375</td>\n",
       "      <td>195448.921875</td>\n",
       "      <td>9251.652344</td>\n",
       "      <td>False</td>\n",
       "      <td>1.0</td>\n",
       "      <td>438487.875</td>\n",
       "      <td>245424.515625</td>\n",
       "      <td>203699.6875</td>\n",
       "      <td>51003.926602</td>\n",
       "    </tr>\n",
       "    <tr>\n",
       "      <th>626657</th>\n",
       "      <td>11:30:16.428</td>\n",
       "      <td>NH_CC108</td>\n",
       "      <td>483759.75000</td>\n",
       "      <td>354063.875000</td>\n",
       "      <td>11528.972656</td>\n",
       "      <td>False</td>\n",
       "      <td>1.0</td>\n",
       "      <td>438487.875</td>\n",
       "      <td>245424.515625</td>\n",
       "      <td>203699.6875</td>\n",
       "      <td>117694.745301</td>\n",
       "    </tr>\n",
       "    <tr>\n",
       "      <th>626658</th>\n",
       "      <td>11:30:16.607</td>\n",
       "      <td>CES_HaiSaki</td>\n",
       "      <td>507203.78125</td>\n",
       "      <td>300504.593750</td>\n",
       "      <td>9160.181641</td>\n",
       "      <td>False</td>\n",
       "      <td>1.0</td>\n",
       "      <td>438487.875</td>\n",
       "      <td>245424.515625</td>\n",
       "      <td>203699.6875</td>\n",
       "      <td>88066.399824</td>\n",
       "    </tr>\n",
       "    <tr>\n",
       "      <th>626659</th>\n",
       "      <td>11:30:16.694</td>\n",
       "      <td>T5_Pathompong</td>\n",
       "      <td>405827.50000</td>\n",
       "      <td>226730.640625</td>\n",
       "      <td>7860.569824</td>\n",
       "      <td>False</td>\n",
       "      <td>1.0</td>\n",
       "      <td>438487.875</td>\n",
       "      <td>245424.515625</td>\n",
       "      <td>203699.6875</td>\n",
       "      <td>37631.915413</td>\n",
       "    </tr>\n",
       "  </tbody>\n",
       "</table>\n",
       "<p>335654 rows × 11 columns</p>\n",
       "</div>"
      ],
      "text/plain": [
       "                  _D character.name  character.location.x  \\\n",
       "0       11:21:03.132    TL_Jiaoyang          605780.87500   \n",
       "1       11:21:03.133    TL_Jiaoyang          605888.00000   \n",
       "2       11:21:03.651    TL_Jiaoyang          605379.68750   \n",
       "3       11:21:05.326    TL_Jiaoyang          605124.12500   \n",
       "4       11:21:05.448    TL_Jiaoyang          605124.12500   \n",
       "...              ...            ...                   ...   \n",
       "626655  11:30:16.341  T5_RossitedJR          390408.84375   \n",
       "626656  11:30:16.341    FaZe_curexi          448678.09375   \n",
       "626657  11:30:16.428       NH_CC108          483759.75000   \n",
       "626658  11:30:16.607    CES_HaiSaki          507203.78125   \n",
       "626659  11:30:16.694  T5_Pathompong          405827.50000   \n",
       "\n",
       "        character.location.y  character.location.z  character.isInBlueZone  \\\n",
       "0              366935.437500          10457.629883                   False   \n",
       "1              366900.062500          10551.200195                   False   \n",
       "2              367114.625000           9876.229492                   False   \n",
       "3              367265.593750           9903.726562                   False   \n",
       "4              367265.593750           9903.726562                   False   \n",
       "...                      ...                   ...                     ...   \n",
       "626655         246346.390625           7986.729980                   False   \n",
       "626656         195448.921875           9251.652344                   False   \n",
       "626657         354063.875000          11528.972656                   False   \n",
       "626658         300504.593750           9160.181641                   False   \n",
       "626659         226730.640625           7860.569824                   False   \n",
       "\n",
       "        phase  whitecircle_location_x  whitecircle_location_y  \\\n",
       "0         1.0              438487.875           245424.515625   \n",
       "1         1.0              438487.875           245424.515625   \n",
       "2         1.0              438487.875           245424.515625   \n",
       "3         1.0              438487.875           245424.515625   \n",
       "4         1.0              438487.875           245424.515625   \n",
       "...       ...                     ...                     ...   \n",
       "626655    1.0              438487.875           245424.515625   \n",
       "626656    1.0              438487.875           245424.515625   \n",
       "626657    1.0              438487.875           245424.515625   \n",
       "626658    1.0              438487.875           245424.515625   \n",
       "626659    1.0              438487.875           245424.515625   \n",
       "\n",
       "        whitecircle_radius       distance  \n",
       "0              203699.6875  206765.209801  \n",
       "1              203699.6875  206831.115499  \n",
       "2              203699.6875  206546.265518  \n",
       "3              203699.6875  206428.893648  \n",
       "4              203699.6875  206428.893648  \n",
       "...                    ...            ...  \n",
       "626655         203699.6875   48087.868527  \n",
       "626656         203699.6875   51003.926602  \n",
       "626657         203699.6875  117694.745301  \n",
       "626658         203699.6875   88066.399824  \n",
       "626659         203699.6875   37631.915413  \n",
       "\n",
       "[335654 rows x 11 columns]"
      ]
     },
     "execution_count": 7,
     "metadata": {},
     "output_type": "execute_result"
    }
   ],
   "source": [
    "phase_1_df"
   ]
  },
  {
   "cell_type": "code",
   "execution_count": 8,
   "metadata": {},
   "outputs": [
    {
     "name": "stderr",
     "output_type": "stream",
     "text": [
      "C:\\Users\\PC\\AppData\\Local\\Temp\\ipykernel_14460\\554840962.py:2: SettingWithCopyWarning: \n",
      "A value is trying to be set on a copy of a slice from a DataFrame.\n",
      "Try using .loc[row_indexer,col_indexer] = value instead\n",
      "\n",
      "See the caveats in the documentation: https://pandas.pydata.org/pandas-docs/stable/user_guide/indexing.html#returning-a-view-versus-a-copy\n",
      "  phase_1_df['character.name'] = phase_1_df['character.name'].apply(lambda x: x.split('_')[0])\n"
     ]
    },
    {
     "name": "stdout",
     "output_type": "stream",
     "text": [
      "                  _D character.name  character.location.x  \\\n",
      "0       11:21:03.132             TL          605780.87500   \n",
      "1       11:21:03.133             TL          605888.00000   \n",
      "2       11:21:03.651             TL          605379.68750   \n",
      "3       11:21:05.326             TL          605124.12500   \n",
      "4       11:21:05.448             TL          605124.12500   \n",
      "...              ...            ...                   ...   \n",
      "626655  11:30:16.341             T5          390408.84375   \n",
      "626656  11:30:16.341           FaZe          448678.09375   \n",
      "626657  11:30:16.428             NH          483759.75000   \n",
      "626658  11:30:16.607            CES          507203.78125   \n",
      "626659  11:30:16.694             T5          405827.50000   \n",
      "\n",
      "        character.location.y  character.location.z  character.isInBlueZone  \\\n",
      "0              366935.437500          10457.629883                   False   \n",
      "1              366900.062500          10551.200195                   False   \n",
      "2              367114.625000           9876.229492                   False   \n",
      "3              367265.593750           9903.726562                   False   \n",
      "4              367265.593750           9903.726562                   False   \n",
      "...                      ...                   ...                     ...   \n",
      "626655         246346.390625           7986.729980                   False   \n",
      "626656         195448.921875           9251.652344                   False   \n",
      "626657         354063.875000          11528.972656                   False   \n",
      "626658         300504.593750           9160.181641                   False   \n",
      "626659         226730.640625           7860.569824                   False   \n",
      "\n",
      "        phase  whitecircle_location_x  whitecircle_location_y  \\\n",
      "0         1.0              438487.875           245424.515625   \n",
      "1         1.0              438487.875           245424.515625   \n",
      "2         1.0              438487.875           245424.515625   \n",
      "3         1.0              438487.875           245424.515625   \n",
      "4         1.0              438487.875           245424.515625   \n",
      "...       ...                     ...                     ...   \n",
      "626655    1.0              438487.875           245424.515625   \n",
      "626656    1.0              438487.875           245424.515625   \n",
      "626657    1.0              438487.875           245424.515625   \n",
      "626658    1.0              438487.875           245424.515625   \n",
      "626659    1.0              438487.875           245424.515625   \n",
      "\n",
      "        whitecircle_radius       distance  \n",
      "0              203699.6875  206765.209801  \n",
      "1              203699.6875  206831.115499  \n",
      "2              203699.6875  206546.265518  \n",
      "3              203699.6875  206428.893648  \n",
      "4              203699.6875  206428.893648  \n",
      "...                    ...            ...  \n",
      "626655         203699.6875   48087.868527  \n",
      "626656         203699.6875   51003.926602  \n",
      "626657         203699.6875  117694.745301  \n",
      "626658         203699.6875   88066.399824  \n",
      "626659         203699.6875   37631.915413  \n",
      "\n",
      "[335654 rows x 11 columns]\n"
     ]
    },
    {
     "name": "stderr",
     "output_type": "stream",
     "text": [
      "C:\\Users\\PC\\AppData\\Local\\Temp\\ipykernel_14460\\554840962.py:3: SettingWithCopyWarning: \n",
      "A value is trying to be set on a copy of a slice from a DataFrame.\n",
      "Try using .loc[row_indexer,col_indexer] = value instead\n",
      "\n",
      "See the caveats in the documentation: https://pandas.pydata.org/pandas-docs/stable/user_guide/indexing.html#returning-a-view-versus-a-copy\n",
      "  phase_2_df['character.name'] = phase_2_df['character.name'].apply(lambda x: x.split('_')[0])\n",
      "C:\\Users\\PC\\AppData\\Local\\Temp\\ipykernel_14460\\554840962.py:4: SettingWithCopyWarning: \n",
      "A value is trying to be set on a copy of a slice from a DataFrame.\n",
      "Try using .loc[row_indexer,col_indexer] = value instead\n",
      "\n",
      "See the caveats in the documentation: https://pandas.pydata.org/pandas-docs/stable/user_guide/indexing.html#returning-a-view-versus-a-copy\n",
      "  phase_3_df['character.name'] = phase_3_df['character.name'].apply(lambda x: x.split('_')[0])\n",
      "C:\\Users\\PC\\AppData\\Local\\Temp\\ipykernel_14460\\554840962.py:5: SettingWithCopyWarning: \n",
      "A value is trying to be set on a copy of a slice from a DataFrame.\n",
      "Try using .loc[row_indexer,col_indexer] = value instead\n",
      "\n",
      "See the caveats in the documentation: https://pandas.pydata.org/pandas-docs/stable/user_guide/indexing.html#returning-a-view-versus-a-copy\n",
      "  phase_4_df['character.name'] = phase_4_df['character.name'].apply(lambda x: x.split('_')[0])\n",
      "C:\\Users\\PC\\AppData\\Local\\Temp\\ipykernel_14460\\554840962.py:6: SettingWithCopyWarning: \n",
      "A value is trying to be set on a copy of a slice from a DataFrame.\n",
      "Try using .loc[row_indexer,col_indexer] = value instead\n",
      "\n",
      "See the caveats in the documentation: https://pandas.pydata.org/pandas-docs/stable/user_guide/indexing.html#returning-a-view-versus-a-copy\n",
      "  phase_5_df['character.name'] = phase_5_df['character.name'].apply(lambda x: x.split('_')[0])\n",
      "C:\\Users\\PC\\AppData\\Local\\Temp\\ipykernel_14460\\554840962.py:7: SettingWithCopyWarning: \n",
      "A value is trying to be set on a copy of a slice from a DataFrame.\n",
      "Try using .loc[row_indexer,col_indexer] = value instead\n",
      "\n",
      "See the caveats in the documentation: https://pandas.pydata.org/pandas-docs/stable/user_guide/indexing.html#returning-a-view-versus-a-copy\n",
      "  phase_6_df['character.name'] = phase_6_df['character.name'].apply(lambda x: x.split('_')[0])\n",
      "C:\\Users\\PC\\AppData\\Local\\Temp\\ipykernel_14460\\554840962.py:8: SettingWithCopyWarning: \n",
      "A value is trying to be set on a copy of a slice from a DataFrame.\n",
      "Try using .loc[row_indexer,col_indexer] = value instead\n",
      "\n",
      "See the caveats in the documentation: https://pandas.pydata.org/pandas-docs/stable/user_guide/indexing.html#returning-a-view-versus-a-copy\n",
      "  phase_7_df['character.name'] = phase_7_df['character.name'].apply(lambda x: x.split('_')[0])\n"
     ]
    }
   ],
   "source": [
    "# 특정 열의 데이터 처리\n",
    "phase_1_df['character.name'] = phase_1_df['character.name'].apply(lambda x: x.split('_')[0])\n",
    "phase_2_df['character.name'] = phase_2_df['character.name'].apply(lambda x: x.split('_')[0])\n",
    "phase_3_df['character.name'] = phase_3_df['character.name'].apply(lambda x: x.split('_')[0])\n",
    "phase_4_df['character.name'] = phase_4_df['character.name'].apply(lambda x: x.split('_')[0])\n",
    "phase_5_df['character.name'] = phase_5_df['character.name'].apply(lambda x: x.split('_')[0])\n",
    "phase_6_df['character.name'] = phase_6_df['character.name'].apply(lambda x: x.split('_')[0])\n",
    "phase_7_df['character.name'] = phase_7_df['character.name'].apply(lambda x: x.split('_')[0])\n",
    "\n",
    "\n",
    "# 결과 확인\n",
    "print(phase_1_df)"
   ]
  },
  {
   "cell_type": "code",
   "execution_count": 9,
   "metadata": {},
   "outputs": [
    {
     "data": {
      "text/plain": [
       "character.name\n",
       "17      2.942660e+09\n",
       "CES     2.831412e+09\n",
       "DAY     3.339941e+09\n",
       "DNW     8.161440e+09\n",
       "FaZe    2.255756e+09\n",
       "GEN     4.193195e+09\n",
       "LG      1.619964e+09\n",
       "NH      5.458106e+09\n",
       "PeRo    1.423942e+09\n",
       "SQ      4.613945e+08\n",
       "T5      1.827809e+09\n",
       "TL      4.368248e+09\n",
       "TWIS    2.886795e+09\n",
       "Tian    4.410072e+09\n",
       "V7      2.383274e+09\n",
       "Name: distance, dtype: float64"
      ]
     },
     "execution_count": 9,
     "metadata": {},
     "output_type": "execute_result"
    }
   ],
   "source": [
    "phase_1_team_distance = phase_1_df.groupby('character.name')['distance'].sum()\n",
    "phase_2_team_distance = phase_2_df.groupby('character.name')['distance'].sum()\n",
    "phase_3_team_distance = phase_3_df.groupby('character.name')['distance'].sum()\n",
    "phase_4_team_distance = phase_4_df.groupby('character.name')['distance'].sum()\n",
    "phase_5_team_distance = phase_5_df.groupby('character.name')['distance'].sum()\n",
    "phase_6_team_distance = phase_6_df.groupby('character.name')['distance'].sum()\n",
    "phase_7_team_distance = phase_7_df.groupby('character.name')['distance'].sum()\n",
    "phase_1_team_distance"
   ]
  },
  {
   "cell_type": "code",
   "execution_count": 10,
   "metadata": {},
   "outputs": [
    {
     "name": "stdout",
     "output_type": "stream",
     "text": [
      "{'17': 2942660156.8107247, 'CES': 2831412422.9394255, 'DAY': 3339940839.8051715, 'DNW': 8161440207.521092, 'FaZe': 2255756337.146956, 'GEN': 4193194941.3170304, 'LG': 1619964460.4705932, 'NH': 5458106165.421424, 'PeRo': 1423942029.537202, 'SQ': 461394496.77655125, 'T5': 1827808903.582287, 'TL': 4368248486.090981, 'TWIS': 2886795146.079985, 'Tian': 4410071775.122078, 'V7': 2383273534.579069}\n"
     ]
    }
   ],
   "source": [
    "phase_1_team_distance_DIC = phase_1_team_distance.to_dict()\n",
    "phase_2_team_distance_DIC = phase_2_team_distance.to_dict()\n",
    "phase_3_team_distance_DIC = phase_3_team_distance.to_dict()\n",
    "phase_4_team_distance_DIC = phase_4_team_distance.to_dict()\n",
    "phase_5_team_distance_DIC = phase_5_team_distance.to_dict()\n",
    "phase_6_team_distance_DIC = phase_6_team_distance.to_dict()\n",
    "phase_7_team_distance_DIC = phase_7_team_distance.to_dict()\n",
    "\n",
    "print(phase_1_team_distance_DIC)"
   ]
  },
  {
   "cell_type": "code",
   "execution_count": 11,
   "metadata": {},
   "outputs": [
    {
     "data": {
      "image/png": "[encoded data removed]",
      "text/plain": [
       "<Figure size 1200x600 with 1 Axes>"
      ]
     },
     "metadata": {},
     "output_type": "display_data"
    }
   ],
   "source": [
    "# 딕셔너리를 데이터프레임으로 변환\n",
    "df_plot = pd.DataFrame(list(phase_1_team_distance_DIC.items()), columns=['character.name', 'distance'])\n",
    "df_plot = df_plot.sort_values(by='distance')\n",
    "\n",
    "# 그래프 그리기\n",
    "plt.figure(figsize=(12, 6))\n",
    "sns.barplot(x='character.name', y='distance', data=df_plot, palette='viridis')\n",
    "plt.title('Distance by Character')\n",
    "plt.xlabel('Character Name')\n",
    "plt.ylabel('Distance')\n",
    "plt.show()"
   ]
  },
  {
   "cell_type": "code",
   "execution_count": 12,
   "metadata": {},
   "outputs": [
    {
     "name": "stderr",
     "output_type": "stream",
     "text": [
      "C:\\Users\\PC\\AppData\\Local\\Temp\\ipykernel_14460\\4131640304.py:22: UserWarning: set_ticklabels() should only be used with a fixed number of ticks, i.e. after set_ticks() or using a FixedLocator.\n",
      "  ax.set_xticklabels(ax.get_xticklabels(), rotation=90)\n",
      "C:\\Users\\PC\\AppData\\Local\\Temp\\ipykernel_14460\\4131640304.py:22: UserWarning: set_ticklabels() should only be used with a fixed number of ticks, i.e. after set_ticks() or using a FixedLocator.\n",
      "  ax.set_xticklabels(ax.get_xticklabels(), rotation=90)\n",
      "C:\\Users\\PC\\AppData\\Local\\Temp\\ipykernel_14460\\4131640304.py:22: UserWarning: set_ticklabels() should only be used with a fixed number of ticks, i.e. after set_ticks() or using a FixedLocator.\n",
      "  ax.set_xticklabels(ax.get_xticklabels(), rotation=90)\n",
      "C:\\Users\\PC\\AppData\\Local\\Temp\\ipykernel_14460\\4131640304.py:22: UserWarning: set_ticklabels() should only be used with a fixed number of ticks, i.e. after set_ticks() or using a FixedLocator.\n",
      "  ax.set_xticklabels(ax.get_xticklabels(), rotation=90)\n",
      "C:\\Users\\PC\\AppData\\Local\\Temp\\ipykernel_14460\\4131640304.py:22: UserWarning: set_ticklabels() should only be used with a fixed number of ticks, i.e. after set_ticks() or using a FixedLocator.\n",
      "  ax.set_xticklabels(ax.get_xticklabels(), rotation=90)\n",
      "C:\\Users\\PC\\AppData\\Local\\Temp\\ipykernel_14460\\4131640304.py:22: UserWarning: set_ticklabels() should only be used with a fixed number of ticks, i.e. after set_ticks() or using a FixedLocator.\n",
      "  ax.set_xticklabels(ax.get_xticklabels(), rotation=90)\n",
      "C:\\Users\\PC\\AppData\\Local\\Temp\\ipykernel_14460\\4131640304.py:22: UserWarning: set_ticklabels() should only be used with a fixed number of ticks, i.e. after set_ticks() or using a FixedLocator.\n",
      "  ax.set_xticklabels(ax.get_xticklabels(), rotation=90)\n"
     ]
    },
    {
     "data": {
      "image/png": "[encoded data removed]",
      "text/plain": [
       "<Figure size 1500x800 with 7 Axes>"
      ]
     },
     "metadata": {},
     "output_type": "display_data"
    }
   ],
   "source": [
    "import pandas as pd\n",
    "import matplotlib.pyplot as plt\n",
    "import seaborn as sns\n",
    "\n",
    "# 예시 데이터 (페이즈별로 여러 딕셔너리를 리스트에 저장)\n",
    "phase_dicts = [phase_1_team_distance_DIC, phase_2_team_distance_DIC, phase_3_team_distance_DIC, \n",
    "               phase_4_team_distance_DIC, phase_5_team_distance_DIC, phase_6_team_distance_DIC, \n",
    "               phase_7_team_distance_DIC]\n",
    "\n",
    "# 데이터프레임으로 변환하고 리스트에 저장\n",
    "phase_dataframes = [pd.DataFrame.from_dict(d, orient='index', columns=['distance']).reset_index().rename(columns={'index': 'character.name'}) for d in phase_dicts]\n",
    "\n",
    "# 그래프 그리기\n",
    "plt.figure(figsize=(15, 8))\n",
    "for i, df in enumerate(phase_dataframes, start=1):\n",
    "    plt.subplot(2, 4, i)\n",
    "    ax = sns.barplot(x='character.name', y='distance', data=df, palette='viridis')\n",
    "    plt.title(f'Phase {i}')\n",
    "    plt.ylabel('Distance')\n",
    "    \n",
    "    # x축 라벨 90도 회전\n",
    "    ax.set_xticklabels(ax.get_xticklabels(), rotation=90)\n",
    "    \n",
    "plt.tight_layout()\n",
    "plt.show()\n"
   ]
  }
 ],
 "metadata": {
  "kernelspec": {
   "display_name": ".venv",
   "language": "python",
   "name": "python3"
  },
  "language_info": {
   "codemirror_mode": {
    "name": "ipython",
    "version": 3
   },
   "file_extension": ".py",
   "mimetype": "text/x-python",
   "name": "python",
   "nbconvert_exporter": "python",
   "pygments_lexer": "ipython3",
   "version": "3.9.13"
  }
 },
 "nbformat": 4,
 "nbformat_minor": 2
}
